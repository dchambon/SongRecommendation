{
 "cells": [
  {
   "cell_type": "markdown",
   "metadata": {},
   "source": [
    "# <p style=\"text-align: center;\">MIS 285N: Big Data and Distributed Programming</p>\n",
    "# <p style=\"text-align: center;\">Project - 1 : Apache Spark</p>\n",
    "## <p style=\"text-align: center;\">Instructor: Dr. Ramesh Yerraballi</p>\n",
    "## <p style=\"text-align: center;\">Due: Tuesday, September 14th submitted via Canvas by 11:59 pm</p>\n",
    "\n",
    "Your work should be written in a **Jupyter notebook**.   \n",
    "\n",
    "Also, please make sure your code runs in your notebook before submitting.\n",
    "\n",
    "**Note:**\n",
    "\n",
    "This project is based on Map-Reduce Framework. In these you will get to work with Spark and will get to know how \n",
    "does spark work, what functionalities does spark provide, what does map-reduce framework do and why is it useful. \n",
    "\n",
    "In this project you will be implementing a basic song recommender system. You will be given a dataset where there are multiple csv files. These csv files have data corresponding to song play count and song information.\n",
    "\n",
    "The data you will use is provided in a zip file along with this notebook. The __msd.zip__ archive contains:\n",
    "1. **'kaggle_visible_evaluation_triplets.txt'**. We will be using the visible part of the testing data to understand the working on Apache Spark.  The user's listening history is provided as: (user, song, play count).  \n",
    "2. In **'kaggle_songs.txt'** file, each song is marked using an index for easier representation of songs.  \n",
    "3. And **'kaggle_users.txt'** file is the canonical list of user identifiers.\n",
    "4. Take **'MSDChallengeGettingstarted.pdf'** as your reference.\n",
    "\n",
    "\n",
    "\n",
    "### **What to turn in?**  \n",
    "\n",
    "A zip folder which will have:\n",
    "1. Jupyter Notebook\n",
    "2. A brief report in PDF format on what features you used for recommendation. And a brief explanation of flow of your code. For example,  what RDD does what or, why it was created.\n",
    "3. datasets folder with the csv files you are using in your notebook.\n",
    "4. Notebook should use relative path to the csv files in datasets folder.\n",
    "5. Name of the zip folder - `<your_name>_<your_partner_name>.zip`"
   ]
  },
  {
   "cell_type": "markdown",
   "metadata": {},
   "source": [
    "This project consists of 4 questions:  \n",
    "\n",
    "1. Create an RDD with _kaggle_visible_evaluation_triplets.txt_ and replace the song name with the song index from _kaggle_songs.txt_. Identify the number of songs that do not have any rating. \n",
    "2. Generate song ratings based on the song play count as a normalized score between 0 and 1. \n",
    "3. Identify the popular song based on this rating and recommend songs to user, given user id based on the algorithm used in Movie recommender system from class. \n",
    "4. Using Cosine similarity function, identify pair-wise similarity between each pair of users and generate the top 5 most similar users without an overlap in users. \n",
    "\n",
    "The above list is the high-level idea about the questions. "
   ]
  },
  {
   "cell_type": "code",
   "execution_count": 4,
   "metadata": {},
   "outputs": [],
   "source": [
    "### Starter code ####\n",
    "import findspark\n",
    "findspark.init()   #'/users/domitillechambon/spark-3.3.0-bin-hadoop3/'\n",
    "from pyspark import SparkConf, SparkContext\n",
    "conf = SparkConf().setMaster(\"local[*]\").setAppName(\"Songs\")\n",
    "sc = SparkContext.getOrCreate(conf = conf)\n",
    "#### These lines are to tell jupyter where to find Apache Spark ####"
   ]
  },
  {
   "cell_type": "code",
   "execution_count": 5,
   "metadata": {},
   "outputs": [],
   "source": [
    "#sc.stop()"
   ]
  },
  {
   "cell_type": "code",
   "execution_count": 6,
   "metadata": {},
   "outputs": [],
   "source": [
    "## Read triplet file into RDD\n",
    "triplet_rdd = sc.textFile(r\"kaggle_visible_evaluation_triplets.txt\") \\\n",
    "    .map(lambda line: line.split(\"\\t\")) "
   ]
  },
  {
   "cell_type": "markdown",
   "metadata": {},
   "source": [
    "## Step 1: \n",
    "Replace song name with song index and identify the number of songs without user history"
   ]
  },
  {
   "cell_type": "code",
   "execution_count": 7,
   "metadata": {},
   "outputs": [],
   "source": [
    "# Reading in songs file into RDD\n",
    "song_rdd = sc.textFile(r\"kaggle_songs.txt\") \\\n",
    "    .map(lambda line: line.split(\" \")) "
   ]
  },
  {
   "cell_type": "code",
   "execution_count": 8,
   "metadata": {},
   "outputs": [],
   "source": [
    "## SWITCHING SONG NAME FOR ITS INDEX\n",
    "# Reformatting the triplet and song RDDs\n",
    "tempTriplet = triplet_rdd.map(lambda x: (x[1], [x[0], x[2]]))\n",
    "tempSong = song_rdd.map(lambda x: (x[0], x[1]))\n",
    "\n",
    "# Merging the reformatted RDDs\n",
    "tempMerged = tempTriplet.join(tempSong)\n",
    "\n",
    "# Reformatting the merge\n",
    "updatedTriplet = tempMerged.map(lambda x: (x[1][0][0], x[1][1], x[1][0][1]))"
   ]
  },
  {
   "cell_type": "code",
   "execution_count": 9,
   "metadata": {},
   "outputs": [
    {
     "name": "stderr",
     "output_type": "stream",
     "text": [
      "[Stage 2:==========================================>                (5 + 2) / 7]\r"
     ]
    },
    {
     "name": "stdout",
     "output_type": "stream",
     "text": [
      "223007 songs don't have a rating.\n"
     ]
    },
    {
     "name": "stderr",
     "output_type": "stream",
     "text": [
      "                                                                                \r"
     ]
    }
   ],
   "source": [
    "# FINDING SONGS THAT HAVE NO RATINGS\n",
    "# Creating distinct list of songs users have interacted with and list of all songs\n",
    "userSongs = updatedTriplet.map(lambda x: x[1]).distinct()\n",
    "allSongs = song_rdd.map(lambda x: x[1])\n",
    "\n",
    "# Calculating number of songs with no ratings\n",
    "songsNoRatings = allSongs.subtract(userSongs).count()\n",
    "print(songsNoRatings, \"songs don't have a rating.\")"
   ]
  },
  {
   "cell_type": "markdown",
   "metadata": {},
   "source": [
    "## Step 2:\n",
    "Generate song ratings based on the play_count. For example, if (song_1, 5; song_2, 10; song_3, 5) i.e., song_1 is played 5 times, song_2 is played 10 times and song_3 is played 5 times, the normalized rating score should be 0.25, 0.5 and 0.25 respectively. \n",
    "Similarly, generate the rating for all the songs. You may notice that based on all songs, the rating is almost always very low. So, think of the best way to convert song count to ratings. (Hint: Try generating ratings based on each user's song play history)"
   ]
  },
  {
   "cell_type": "code",
   "execution_count": 10,
   "metadata": {},
   "outputs": [],
   "source": [
    "## MAKE UPDATED TRIPLET INTO A DICTIONARY WITH LIST OF LISTS\n",
    "# Formatting UpdatedTriplet to be like a dictionary\n",
    "utDict = updatedTriplet.map(lambda x: (x[0], [x[1], x[2]]))\n",
    "\n",
    "# Grouped by users\n",
    "groupedTriplet = utDict.groupByKey().map(lambda x: (x[0], list(x[1])))"
   ]
  },
  {
   "cell_type": "code",
   "execution_count": 11,
   "metadata": {
    "tags": []
   },
   "outputs": [
    {
     "name": "stderr",
     "output_type": "stream",
     "text": [
      "                                                                                \r"
     ]
    },
    {
     "data": {
      "text/plain": [
       "[('e4332e11f4df6dd26673bb6b085e9a2bbdc9b8a5',\n",
       "  [['25150', 0.037],\n",
       "   ['307202', 0.0185],\n",
       "   ['212702', 0.0185],\n",
       "   ['354593', 0.0185],\n",
       "   ['292950', 0.0185],\n",
       "   ['248176', 0.0185],\n",
       "   ['294419', 0.0185],\n",
       "   ['384072', 0.0926],\n",
       "   ['248603', 0.0185],\n",
       "   ['220482', 0.0185],\n",
       "   ['126840', 0.0185],\n",
       "   ['49781', 0.0185],\n",
       "   ['191217', 0.0185],\n",
       "   ['123630', 0.0926],\n",
       "   ['319911', 0.0185],\n",
       "   ['115162', 0.1852],\n",
       "   ['327432', 0.0185],\n",
       "   ['126627', 0.0185],\n",
       "   ['39842', 0.0185],\n",
       "   ['177574', 0.0185],\n",
       "   ['334187', 0.0926],\n",
       "   ['192716', 0.0185],\n",
       "   ['30643', 0.0185],\n",
       "   ['37133', 0.0185],\n",
       "   ['362447', 0.0185],\n",
       "   ['44743', 0.0185],\n",
       "   ['243307', 0.0926],\n",
       "   ['295585', 0.0185]]),\n",
       " ('f6e34f0a68d5ea1344511e33486f956de361db78',\n",
       "  [['25150', 0.0046],\n",
       "   ['202995', 0.0091],\n",
       "   ['313367', 0.0776],\n",
       "   ['195624', 0.0548],\n",
       "   ['63758', 0.0548],\n",
       "   ['94613', 0.0091],\n",
       "   ['215039', 0.0046],\n",
       "   ['137041', 0.0228],\n",
       "   ['211253', 0.0228],\n",
       "   ['190566', 0.0228],\n",
       "   ['70235', 0.0685],\n",
       "   ['516', 0.0228],\n",
       "   ['285583', 0.0639],\n",
       "   ['263352', 0.0685],\n",
       "   ['37731', 0.0594],\n",
       "   ['347697', 0.0594],\n",
       "   ['342391', 0.1918],\n",
       "   ['288653', 0.0046],\n",
       "   ['259576', 0.0228],\n",
       "   ['233713', 0.0776],\n",
       "   ['86545', 0.0274],\n",
       "   ['2078', 0.0137],\n",
       "   ['86689', 0.032],\n",
       "   ['356329', 0.0046]]),\n",
       " ('bcb1e6d620cf522390d5c92bae26936928e0b588',\n",
       "  [['25150', 0.4643],\n",
       "   ['177172', 0.0179],\n",
       "   ['212753', 0.1429],\n",
       "   ['25890', 0.0179],\n",
       "   ['259912', 0.0179],\n",
       "   ['314086', 0.2143],\n",
       "   ['334240', 0.0179],\n",
       "   ['105694', 0.0179],\n",
       "   ['225548', 0.0893]]),\n",
       " ('ed199f27a41066e37414c3fe9eefb2ae372b8819',\n",
       "  [['25150', 0.2083],\n",
       "   ['311856', 0.0417],\n",
       "   ['270288', 0.0417],\n",
       "   ['2141', 0.0417],\n",
       "   ['18282', 0.0417],\n",
       "   ['221730', 0.0417],\n",
       "   ['134921', 0.0417],\n",
       "   ['211200', 0.0417],\n",
       "   ['329869', 0.2083],\n",
       "   ['364295', 0.2083],\n",
       "   ['202096', 0.0417],\n",
       "   ['202690', 0.0417]]),\n",
       " ('c1d24ce8cd80e40aa8d803d5ddfceb91a6b5d75d',\n",
       "  [['25150', 0.0667],\n",
       "   ['12985', 0.3333],\n",
       "   ['288653', 0.3333],\n",
       "   ['169415', 0.2],\n",
       "   ['167598', 0.0667]])]"
      ]
     },
     "execution_count": 11,
     "metadata": {},
     "output_type": "execute_result"
    }
   ],
   "source": [
    "## CALCULATE RATINGS\n",
    "# Function to sum song plays for each user\n",
    "def sumPlayCount(line):\n",
    "    userPlays = line[0], list(map(lambda x: int(x[1]), line[1]))\n",
    "    tempSum = sum(userPlays[1])\n",
    "    sumRDD = line[0], list(map(lambda x: [x[0], int(x[1]), tempSum], line[1]))\n",
    "    return sumRDD\n",
    "\n",
    "# Function to calculate rating for each song for each user\n",
    "def rating(line):\n",
    "    userPlaySum = line[0], list(map(lambda x: [x[0], round(x[1] / x[2], 4)], line[1]))\n",
    "    return userPlaySum\n",
    "\n",
    "tripletSum = groupedTriplet.map(lambda x : sumPlayCount(x))\n",
    "tripletRating = tripletSum.map(lambda x : rating(x))\n",
    "\n",
    "tripletRating.take(5)"
   ]
  },
  {
   "cell_type": "markdown",
   "metadata": {},
   "source": [
    "## Step 3: \n",
    "For a given user_id (choose one by yourselves), rating, recommend 5 other songs from the list. One way to do this is based on another user who liked the same song liked by this user with rating more than the given rating and recommend the 5 songs based on the matched user's rating. "
   ]
  },
  {
   "cell_type": "code",
   "execution_count": 12,
   "metadata": {},
   "outputs": [
    {
     "name": "stderr",
     "output_type": "stream",
     "text": [
      "                                                                                \r"
     ]
    }
   ],
   "source": [
    "## CHOOSE USER AND FIND AVERAGE RATING OF SONGS THEY LISTEN TO\n",
    "# Calculates average rating of songs for specified user\n",
    "def avgRating(user):\n",
    "    narrowRatings = list(map(lambda x: x[1], user[1]))\n",
    "    averageRating = sum(narrowRatings) / len(narrowRatings)\n",
    "    avgRDD = user[0], list(map(lambda x: round(averageRating, 4), user[1]))\n",
    "    return avgRDD\n",
    "\n",
    "# Calculates max rating in a specified user's song list\n",
    "def maxRating(user):\n",
    "    narrowRatings = list(map(lambda x: x[1], user[1]))\n",
    "    maxRating = max(narrowRatings)\n",
    "    maxRDD = user[0], list(filter(lambda x: x[1] == maxRating, user[1]))\n",
    "    return maxRDD\n",
    "\n",
    "# User we selected\n",
    "selectedUser = \"e4332e11f4df6dd26673bb6b085e9a2bbdc9b8a5\"\n",
    "\n",
    "# Rating user wants song to be above to listen to (average rating of songs they've listened to\n",
    "userRating = tripletRating.filter(lambda x: x[0] == selectedUser) \\\n",
    "                        .map(lambda x: avgRating(x)) \\\n",
    "                        .map(lambda x: x[1][0]).collect()  \n",
    "\n",
    "# User's most listened to song/song with highest rating\n",
    "topSong = tripletRating.filter(lambda x: x[0] == selectedUser) \\\n",
    "                        .map(lambda x: maxRating(x)) \\\n",
    "                        .map(lambda x: x[1][0][0]).collect()"
   ]
  },
  {
   "cell_type": "code",
   "execution_count": 13,
   "metadata": {},
   "outputs": [
    {
     "name": "stderr",
     "output_type": "stream",
     "text": [
      "[Stage 19:>                                                         (0 + 5) / 5]\r"
     ]
    },
    {
     "name": "stdout",
     "output_type": "stream",
     "text": [
      "The recommendations for e4332e11f4df6dd26673bb6b085e9a2bbdc9b8a5 are: ['334102', '132587', '142602', '225139', '29460']\n"
     ]
    },
    {
     "name": "stderr",
     "output_type": "stream",
     "text": [
      "                                                                                \r"
     ]
    }
   ],
   "source": [
    "## CREATE RECOMMENDATIONS FOR USER\n",
    "# Pulls all users who have listened to our select user's top song and the rating is ≥ user's preferred rating\n",
    "usersWithTopSong = tripletRating.filter(lambda x: x[0] != selectedUser) \\\n",
    "                                .filter(lambda x: x[1][0][0] == topSong[0]) \\\n",
    "                                .filter(lambda x: x[1][0][1] >= userRating[0]) \\\n",
    "\n",
    "# Pull a list of all potential songs and ratings without user into list\n",
    "tempListPotentialSongs = usersWithTopSong.map(lambda x: list(map(lambda y: [y[0], y[1]], x[1]))) \\\n",
    "                                        .flatMap(lambda x: x)\n",
    "\n",
    "# Remove the user's top song from list and removes songs less than rating threshold\n",
    "listPotentialSongs = tempListPotentialSongs.filter(lambda x: x[0] != topSong[0]) \\\n",
    "                                            .filter(lambda x: x[1] >= userRating[0])\n",
    "\n",
    "# Create distinct list of song names with a list of ratings for that song if there are duplicates\n",
    "temp = listPotentialSongs.groupByKey().map(lambda x: [x[0], list(x[1])])\n",
    "\n",
    "# Average ratings of songs with more than 1\n",
    "distinctSongsWithRating = temp.map(lambda x: [x[0], round(sum(x[1]) / len(x[1]), 4)])\n",
    "\n",
    "# Remove songs with ratings less than the rating threshold\n",
    "songsAboveRating = distinctSongsWithRating.filter(lambda x: x[1] >= userRating[0]).collect()\n",
    "\n",
    "# Create list of songs the user has already listened to\n",
    "userSongs = tripletRating.filter(lambda x: x[0] == selectedUser) \\\n",
    "                            .map(lambda x: list(map(lambda y: y[0], x[1]))).collect()\n",
    "\n",
    "# Remove songs the user has already listened to from the potential recommendation list\n",
    "for line in songsAboveRating:\n",
    "    for song in userSongs:\n",
    "        if line[0] == song:\n",
    "            songsAboveRating.remove(line)\n",
    "\n",
    "# Sort the final recommendations list in order of highest song rating to lowest            \n",
    "sortedRecs = sorted(songsAboveRating, key= lambda rating: rating[1], reverse= True)\n",
    " \n",
    "# Create empty recommendations list\n",
    "recommendations = []    \n",
    "\n",
    "# Add the top 5 songs from the sortedRecs list\n",
    "for songs in sortedRecs[0:5]:\n",
    "    recommendations.append(songs[0])\n",
    "\n",
    "# Print the final recommendation\n",
    "print(\"The recommendations for\", selectedUser, \"are:\", recommendations)"
   ]
  },
  {
   "cell_type": "markdown",
   "metadata": {},
   "source": [
    "## Step 4: \n",
    "1. Compute cosine similarity between all pairs of users. \n",
    "2. Sort the similarity score and print the top-5 similar users. \n",
    "3. If the top-5 user set has an user appearing more than once, ignore that pair and take the next best pair from the sorted list. \n",
    "4. For a given user_id, identify the top-5 similar users and hence song recommendations from other user's list. "
   ]
  },
  {
   "cell_type": "code",
   "execution_count": 14,
   "metadata": {},
   "outputs": [
    {
     "ename": "KeyboardInterrupt",
     "evalue": "",
     "output_type": "error",
     "traceback": [
      "\u001b[0;31m---------------------------------------------------------------------------\u001b[0m",
      "\u001b[0;31mKeyboardInterrupt\u001b[0m                         Traceback (most recent call last)",
      "Cell \u001b[0;32mIn [14], line 81\u001b[0m\n\u001b[1;32m     79\u001b[0m \u001b[38;5;28;01mfor\u001b[39;00m otherPairs \u001b[38;5;129;01min\u001b[39;00m similarityPairs:\n\u001b[1;32m     80\u001b[0m     checkPair \u001b[38;5;241m=\u001b[39m [otherPairs[\u001b[38;5;241m0\u001b[39m], otherPairs[\u001b[38;5;241m1\u001b[39m]]\n\u001b[0;32m---> 81\u001b[0m     \u001b[38;5;28;01mif\u001b[39;00m checkPair \u001b[38;5;241m==\u001b[39m currentPair:\n\u001b[1;32m     82\u001b[0m         \u001b[38;5;28;01mcontinue\u001b[39;00m\n\u001b[1;32m     83\u001b[0m     \u001b[38;5;28;01melif\u001b[39;00m checkPair \u001b[38;5;241m==\u001b[39m reversePair:\n",
      "\u001b[0;31mKeyboardInterrupt\u001b[0m: "
     ]
    }
   ],
   "source": [
    "## COMPUTING COSINE SIMILARITY BETWEEN ALL PAIRS OF USERS. SORT THE SIMILARITY SCORE AND PRINT THE TOP-5 SIMILAR USERS. REMOVE USERS THAT APPEAR MORE THAN ONCE\n",
    "import math\n",
    "from operator import itemgetter\n",
    "\n",
    "# RDD with user and list of songs & taking first 275 users\n",
    "userSongs_rdd = groupedTriplet.map(lambda x: [x[0], list(map(lambda y: y[0], x[1]))])\n",
    "songsUser = userSongs_rdd.map(lambda x: x).take(275)\n",
    "\n",
    "# List of songs per user without user for first 275 users\n",
    "songsWithoutUser = userSongs_rdd.map(lambda x: x[1]).take(275)\n",
    "\n",
    "# List of unique songs that were listened to\n",
    "unique_songs = sorted(list({ song \n",
    "                    for user in songsWithoutUser\n",
    "                    for song in user}))\n",
    "\n",
    "# Assign users to related index that populates later\n",
    "userSongDict = {}\n",
    "count = 0\n",
    "for users in songsUser:\n",
    "    userSongDict[count] = users[0]\n",
    "    count += 1\n",
    "\n",
    "# Functions\n",
    "def dot(v,w):\n",
    "    return sum(v_i * w_i\n",
    "              for v_i, w_i in zip(v,w))\n",
    "\n",
    "def cosine_similarity(v,w):\n",
    "    return dot(v, w) / math.sqrt(dot(v, v) * dot(w, w))\n",
    "\n",
    "def makeUserSongVector(userSongs):\n",
    "    return [1 if song in userSongs else 0\n",
    "            for song in unique_songs]\n",
    "\n",
    "def mostSimilarUsersTo(userID):\n",
    "    pairs = [(otherUser, similarity)\n",
    "            for otherUser, similarity in \n",
    "                enumerate(userSimilarities[userID])\n",
    "            if userID != otherUser and similarity > 0]\n",
    "    \n",
    "    return sorted(pairs, key= lambda pair: pair[1], reverse= True)\n",
    "\n",
    "# Matrix of 1s and 0s\n",
    "userSongMatrix = list(map(makeUserSongVector, songsWithoutUser))\n",
    "\n",
    "# Calculate cosine similarity in Matrix format\n",
    "userSimilarities = [[cosine_similarity(song_vector_i, song_vector_j)\n",
    "                    for song_vector_j in userSongMatrix]\n",
    "                    for song_vector_i in userSongMatrix]\n",
    "\n",
    "# Empty list that will populate with the pairs and their cosine similarity\n",
    "similarityPairs = []\n",
    "for index, row in enumerate(userSimilarities):\n",
    "    for indexCol, colValue in enumerate(row):\n",
    "        temp = []\n",
    "        temp.append(index)\n",
    "        temp.append(indexCol)\n",
    "        temp.append(colValue)\n",
    "        similarityPairs.append(temp)\n",
    "\n",
    "# Remove pairs that have cosine similarities equal to 1 and 0; switch index values for the user IDs\n",
    "for pair in similarityPairs:\n",
    "    if pair[2] == 1.0 or pair[2] == 0.0:\n",
    "        similarityPairs.remove(pair)\n",
    "    for user in userSongDict:\n",
    "        if pair[0] == user:\n",
    "            pair[0] = userSongDict[user]\n",
    "        elif pair[1] == user:\n",
    "            pair[1] = userSongDict[user]\n",
    "\n",
    "# Sort pairs from highest similarity score to lowest   \n",
    "similarityPairs = sorted(similarityPairs, key= itemgetter(2), reverse= True)\n",
    "\n",
    "# Remove duplicate pairs\n",
    "for pair in similarityPairs:\n",
    "    currentPair = [pair[0], pair[1]]\n",
    "    reversePair = [pair[1], pair[0]]\n",
    "    for otherPairs in similarityPairs:\n",
    "        checkPair = [otherPairs[0], otherPairs[1]]\n",
    "        if checkPair == currentPair:\n",
    "            continue\n",
    "        elif checkPair == reversePair:\n",
    "            similarityPairs.remove(otherPairs)\n",
    "\n",
    "# Print the top 5 similar user\n",
    "print(\"The top 5 similar users are:\\n\", similarityPairs[0:5])"
   ]
  },
  {
   "cell_type": "code",
   "execution_count": null,
   "metadata": {},
   "outputs": [
    {
     "name": "stdout",
     "output_type": "stream",
     "text": [
      "The top 5 users this user has matched with are: ['215ead8d62a0a100c5ebf9fdb7a42d93145eb19b', '58762a4d9857daba21681a885d44ceb26eb97358', 'fbe76fedef949361315193fe3cf85f184042dc1b', 'ea4cf1fe6983bd5b939c3788ed516a10fcc1471f', 'bab630566021c8c6de68c293c21ff89ea4aeab7f'] \n",
      "\n",
      "The top 5 recommended songs from similar users are: ['187809', '379742', '206339', '147298', '152870']\n"
     ]
    }
   ],
   "source": [
    "## FOR A GIVEN USER_ID, IDENTIFY THE TOP-5 SIMILAR USERS AND HENCE SONG RECOMMENDATIONS FROM OTHER USER'S LISTS\n",
    "# Finding similar users for user 0 \n",
    "tempUserXSimilar = list(mostSimilarUsersTo(0))\n",
    "\n",
    "# Changing user index to user id\n",
    "userXSimilar = []\n",
    "for simUser in tempUserXSimilar:\n",
    "    temp = []\n",
    "    for user in userSongDict:\n",
    "        if simUser[0] == user:\n",
    "            temp.append(userSongDict[user])\n",
    "            temp.append(simUser[1])\n",
    "    userXSimilar.append(temp)\n",
    "\n",
    "# Pulls top 5 most similar users\n",
    "userXSimilar = userXSimilar[0:5]\n",
    "\n",
    "# Grabbing just names of top 5 similar users\n",
    "simUserID = []\n",
    "for user in userXSimilar:\n",
    "    simUserID.append(user[0])\n",
    "\n",
    "# Finding the top 5 songs recommended based on similar users\n",
    "def userSuggestions(userID, includeCurrentSongs = False):\n",
    "    suggestions = {}\n",
    "    for otherUserID, similarity in mostSimilarUsersTo(userID):\n",
    "        for song in songsWithoutUser[otherUserID]:\n",
    "            suggestions[song] = suggestions[song] = similarity\n",
    "\n",
    "    suggestions = sorted(suggestions.items(),\n",
    "                        key = lambda pair: pair[1],\n",
    "                        reverse= True)\n",
    "                \n",
    "    if includeCurrentSongs:\n",
    "        return suggestions\n",
    "    else:\n",
    "        return [(suggestion, weight)\n",
    "                for suggestion, weight in suggestions\n",
    "                    if suggestion not in songsWithoutUser[userID]]\n",
    "\n",
    "top5SongsWeights = userSuggestions(0, False)\n",
    "top5SongsWeights = top5SongsWeights[0:5]\n",
    "\n",
    "songRecommendations = []\n",
    "for song in top5SongsWeights:\n",
    "    songRecommendations.append(song[0])\n",
    "\n",
    "#print(songRecommendations)\n",
    "\n",
    "print(\"The top 5 users this user has matched with are:\", simUserID, \"\\n\\nThe top 5 recommended songs from similar users are:\", songRecommendations)\n"
   ]
  }
 ],
 "metadata": {
  "kernelspec": {
   "display_name": "Python 3.10.6 64-bit",
   "language": "python",
   "name": "python3"
  },
  "language_info": {
   "codemirror_mode": {
    "name": "ipython",
    "version": 3
   },
   "file_extension": ".py",
   "mimetype": "text/x-python",
   "name": "python",
   "nbconvert_exporter": "python",
   "pygments_lexer": "ipython3",
   "version": "3.10.6"
  },
  "vscode": {
   "interpreter": {
    "hash": "aee8b7b246df8f9039afb4144a1f6fd8d2ca17a180786b69acc140d282b71a49"
   }
  }
 },
 "nbformat": 4,
 "nbformat_minor": 4
}
